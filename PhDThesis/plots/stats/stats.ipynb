{
 "cells": [
  {
   "cell_type": "code",
   "execution_count": 20,
   "metadata": {},
   "outputs": [
    {
     "name": "stdout",
     "output_type": "stream",
     "text": [
      "Ttest_indResult(statistic=0.5693190492972553, pvalue=0.56930271158815904)\n",
      "KruskalResult(statistic=0.29360706000680009, pvalue=0.58791825967732581)\n"
     ]
    }
   ],
   "source": [
    "import pandas\n",
    "import numpy as np\n",
    "from scipy import stats\n",
    "\n",
    "data1 = pandas.read_csv('gendrum_stats/user_scores.csv', sep=',')\n",
    "\n",
    "data = data1[data1['Question'] == \"similarity\"]\n",
    "\n",
    "data = data.dropna()\n",
    "\n",
    "percussion_group = data[data['Percussion'] == 'Yes']['Score']\n",
    "no_percussion_group = data[data['Percussion'] == 'No']['Score']\n",
    "\n",
    "reading_group = data[data['Read'] == 'Yes']['Score']\n",
    "no_reading_group = data[data['Read'] == 'No']['Score']\n",
    "\n",
    "linear_group = data[data['patternType'] == 'Linear']['Score']\n",
    "parallel_group = data[data['patternType'] == 'Parallel']['Score']\n",
    "\n",
    "hamming_group = data[data['Measure'] == 'Hamming']['Score']\n",
    "swap_group = data[data['Measure'] == 'Swap']['Score']\n",
    "\n",
    "print(stats.ttest_ind(reading_group, no_reading_group))\n",
    "print(stats.kruskal(reading_group, no_reading_group))"
   ]
  },
  {
   "cell_type": "code",
   "execution_count": 58,
   "metadata": {},
   "outputs": [
    {
     "data": {
      "image/png": "[encoded data removed]",
      "text/plain": [
       "<matplotlib.figure.Figure at 0x10e71e210>"
      ]
     },
     "metadata": {},
     "output_type": "display_data"
    }
   ],
   "source": [
    "data_interestingness = data1[data1['Question'] == \"interestingness\"]\n",
    "\n",
    "import matplotlib.pyplot as plt\n",
    "\n",
    "plt.scatter(data_interestingness['Score'], data_interestingness['Distance'])\n",
    "\n",
    "plt.show()"
   ]
  },
  {
   "cell_type": "code",
   "execution_count": null,
   "metadata": {},
   "outputs": [],
   "source": []
  }
 ],
 "metadata": {
  "kernelspec": {
   "display_name": "Python 3 (ipykernel)",
   "language": "python",
   "name": "python3"
  },
  "language_info": {
   "codemirror_mode": {
    "name": "ipython",
    "version": 3
   },
   "file_extension": ".py",
   "mimetype": "text/x-python",
   "name": "python",
   "nbconvert_exporter": "python",
   "pygments_lexer": "ipython3",
   "version": "3.11.7"
  }
 },
 "nbformat": 4,
 "nbformat_minor": 4
}
