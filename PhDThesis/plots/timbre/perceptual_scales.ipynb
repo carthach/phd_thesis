{
 "cells": [
  {
   "cell_type": "code",
   "execution_count": 1,
   "metadata": {},
   "outputs": [],
   "source": [
    "import pandas as pd\n",
    "import numpy as np\n",
    "from matplotlib import pyplot as plt\n",
    "import seaborn as sns\n",
    "import itertools\n",
    "from mpl_toolkits.mplot3d import Axes3D\n",
    "import os\n",
    "import glob\n",
    "import madmom\n",
    "import matplotlib.patches as mpatches\n",
    "import librosa\n",
    "import librosa.display\n",
    "\n",
    "from essentia import *\n",
    "from essentia.standard import *"
   ]
  },
  {
   "cell_type": "code",
   "execution_count": 54,
   "metadata": {},
   "outputs": [
    {
     "data": {
      "image/png": "[encoded data removed]",
      "text/plain": [
       "<matplotlib.figure.Figure at 0x10f60bad0>"
      ]
     },
     "metadata": {},
     "output_type": "display_data"
    }
   ],
   "source": [
    "freqs = np.arange(20, 5000, 250)\n",
    "\n",
    "\n",
    "erb = lambda f : 214*np.log10(0.00437*f+1)\n",
    "mel = lambda f: 1127.01048*np.log(1+f/700.0)\n",
    "bark = lambda f : 13*np.arctan(0.00076*f)+3.5*np.arctan((f/7000.0)**2)\n",
    "pitch = lambda f: 69 + 12 * np.log2(f/440.0)\n",
    "\n",
    "erbs = erb(freqs)\n",
    "mels = mel(freqs)\n",
    "barks = bark(freqs)\n",
    "pitches = pitch(freqs)\n",
    "\n",
    "\n",
    "# erbs = erbs/np.max(erbs)\n",
    "# mels = mels/np.max(mels)\n",
    "# barks = barks/np.max(barks)\n",
    "# pitches = pitches/np.max(pitches)\n",
    "\n",
    "# plt.plot(freqs, erbs, label=\"ERB\")\n",
    "\n",
    "# plt.plot(freqs, barks, label=\"Bark\")\n",
    "# plt.plot(freqs, pitches, label=\"Pitch\")\n",
    "\n",
    "plt.plot(freqs, mels, label=\"Mel\")\n",
    "\n",
    "plt.xlabel(\"frequency (Hz)\")\n",
    "plt.ylabel(\"normalised scale\")\n",
    "\n",
    "plt.legend()\n",
    "plt.savefig(\"scale.pdf\", bbox_inches='tight', dpi=1200)\n",
    "plt.show()\n"
   ]
  },
  {
   "cell_type": "code",
   "execution_count": null,
   "metadata": {},
   "outputs": [],
   "source": []
  }
 ],
 "metadata": {
  "kernelspec": {
   "display_name": "Python 3 (ipykernel)",
   "language": "python",
   "name": "python3"
  },
  "language_info": {
   "codemirror_mode": {
    "name": "ipython",
    "version": 3
   },
   "file_extension": ".py",
   "mimetype": "text/x-python",
   "name": "python",
   "nbconvert_exporter": "python",
   "pygments_lexer": "ipython3",
   "version": "3.11.7"
  }
 },
 "nbformat": 4,
 "nbformat_minor": 4
}
