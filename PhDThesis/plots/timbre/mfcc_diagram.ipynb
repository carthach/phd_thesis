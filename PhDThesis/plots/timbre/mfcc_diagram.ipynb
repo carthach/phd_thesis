{
 "cells": [
  {
   "cell_type": "code",
   "execution_count": 2,
   "metadata": {},
   "outputs": [],
   "source": [
    "import pandas as pd\n",
    "import numpy as np\n",
    "from matplotlib import pyplot as plt\n",
    "import seaborn as sns\n",
    "import itertools\n",
    "from mpl_toolkits.mplot3d import Axes3D\n",
    "import os\n",
    "import glob\n",
    "import madmom\n",
    "import matplotlib.patches as mpatches\n",
    "import librosa\n",
    "import librosa.display\n",
    "\n",
    "from essentia import *\n",
    "from essentia.standard import *"
   ]
  },
  {
   "cell_type": "code",
   "execution_count": 27,
   "metadata": {},
   "outputs": [
    {
     "name": "stdout",
     "output_type": "stream",
     "text": [
      "[[ -1.13842004e+03   1.14440918e-05  -6.10351562e-05 ...,  -2.67028809e-05\n",
      "   -3.05175781e-05  -3.81469727e-05]\n",
      " [ -1.13842004e+03   1.14440918e-05  -6.10351562e-05 ...,  -2.67028809e-05\n",
      "   -3.05175781e-05  -3.81469727e-05]\n",
      " [ -1.13592212e+03   3.52051926e+00   3.48446655e+00 ...,   2.44527054e+00\n",
      "    2.24526978e+00   2.03672791e+00]\n",
      " ..., \n",
      " [ -1.13493579e+03   4.92368698e+00   4.91220093e+00 ...,   4.55233383e+00\n",
      "    4.47480011e+00   4.39034271e+00]\n",
      " [ -1.13672070e+03   2.40140915e+00   2.39575195e+00 ...,   2.22024918e+00\n",
      "    2.18244171e+00   2.14123535e+00]\n",
      " [ -1.13842004e+03   1.14440918e-05  -6.10351562e-05 ...,  -2.67028809e-05\n",
      "   -3.05175781e-05  -3.81469727e-05]]\n"
     ]
    }
   ],
   "source": [
    "filename = \"samples/perc/ratchet__long_forte_roll.mp3\"\n",
    "audio = MonoLoader(filename=filename, sampleRate=44100)()\n",
    "\n",
    "def extractor(audio):\n",
    "    # load our audio into an array\n",
    "\n",
    "    # create the pool and the necessary algorithms\n",
    "    pool = Pool()\n",
    "    w = Windowing()\n",
    "    spec = Spectrum()\n",
    "    flatness = Flatness()\n",
    "    flatnessDB = FlatnessDB()\n",
    "    mfcc = MFCC(numberCoefficients=13)\n",
    "\n",
    "    # compute the centroid for all frames in our audio and add it to the pool\n",
    "    for frame in FrameGenerator(audio, frameSize = 1024, hopSize = 512):\n",
    "        s = spec(w(frame))\n",
    "        f = flatness(s)\n",
    "        fDB = flatnessDB(s)\n",
    "        m_bands, m_coeffs = mfcc(s)\n",
    "        pool.add('flatness', f)\n",
    "        pool.add('flatnessDB', fDB)\n",
    "        pool.add('mfcc', m_coeffs)\n",
    "\n",
    "    # aggregate the results\n",
    "    aggrpool = PoolAggregator(defaultStats = [ 'mean', 'stdev' ])(pool)\n",
    "\n",
    "    return pool[\"mfcc\"]\n",
    "\n",
    "#Get y and sr\n",
    "y, sr = audio, 44100\n",
    "\n",
    "mfcc = extractor(audio)\n",
    "print mfcc"
   ]
  },
  {
   "cell_type": "code",
   "execution_count": 30,
   "metadata": {},
   "outputs": [
    {
     "data": {
      "image/png": "[encoded data removed]",
      "text/plain": [
       "<matplotlib.figure.Figure at 0x11b57b110>"
      ]
     },
     "metadata": {},
     "output_type": "display_data"
    }
   ],
   "source": [
    "plt.plot(audio, color=\"k\")\n",
    "plt.savefig(\"waveform.png\")\n",
    "plt.show()"
   ]
  },
  {
   "cell_type": "code",
   "execution_count": 31,
   "metadata": {},
   "outputs": [
    {
     "data": {
      "image/png": "[encoded data removed]",
      "text/plain": [
       "<matplotlib.figure.Figure at 0x114e21c10>"
      ]
     },
     "metadata": {},
     "output_type": "display_data"
    }
   ],
   "source": [
    "plt.imshow(mfcc.T, origin=\"lower\", aspect=\"auto\", cmap=\"gray\")\n",
    "plt.savefig(\"mfcc.png\")\n",
    "plt.show()"
   ]
  },
  {
   "cell_type": "code",
   "execution_count": null,
   "metadata": {},
   "outputs": [],
   "source": []
  }
 ],
 "metadata": {
  "kernelspec": {
   "display_name": "Python 3 (ipykernel)",
   "language": "python",
   "name": "python3"
  },
  "language_info": {
   "codemirror_mode": {
    "name": "ipython",
    "version": 3
   },
   "file_extension": ".py",
   "mimetype": "text/x-python",
   "name": "python",
   "nbconvert_exporter": "python",
   "pygments_lexer": "ipython3",
   "version": "3.11.7"
  }
 },
 "nbformat": 4,
 "nbformat_minor": 4
}
