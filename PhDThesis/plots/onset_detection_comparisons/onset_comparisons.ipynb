{
 "cells": [
  {
   "cell_type": "code",
   "execution_count": 4,
   "metadata": {},
   "outputs": [
    {
     "name": "stdout",
     "output_type": "stream",
     "text": [
      "['Algorithm', 'Measure', 'Value']\n",
      "0       0.905405\n",
      "1       0.752809\n",
      "2       0.822086\n",
      "3       0.914894\n",
      "4       0.803738\n",
      "5       0.855721\n",
      "6       0.880000\n",
      "7       0.814815\n",
      "8       0.846154\n",
      "9       1.000000\n",
      "10      1.000000\n",
      "11      1.000000\n",
      "12      0.950980\n",
      "13      0.989796\n",
      "14      0.970000\n",
      "15      1.000000\n",
      "16      0.989899\n",
      "17      0.994924\n",
      "18      0.923077\n",
      "19      1.000000\n",
      "20      0.960000\n",
      "21      0.952381\n",
      "22      0.965517\n",
      "23      0.958904\n",
      "24      1.000000\n",
      "25      0.996845\n",
      "26      0.998420\n",
      "27      1.000000\n",
      "28      0.990000\n",
      "29      0.994975\n",
      "          ...   \n",
      "6360    0.945946\n",
      "6361    1.000000\n",
      "6362    0.972222\n",
      "6363    0.966216\n",
      "6364    0.986207\n",
      "6365    0.976109\n",
      "6366    0.974227\n",
      "6367    0.979275\n",
      "6368    0.976744\n",
      "6369    0.901235\n",
      "6370    0.993197\n",
      "6371    0.944984\n",
      "6372    0.964646\n",
      "6373    0.936275\n",
      "6374    0.950249\n",
      "6375    0.973510\n",
      "6376    0.993243\n",
      "6377    0.983278\n",
      "6378    0.925466\n",
      "6379    0.943038\n",
      "6380    0.934169\n",
      "6381    0.945783\n",
      "6382    0.981250\n",
      "6383    0.963190\n",
      "6384    0.970588\n",
      "6385    0.976331\n",
      "6386    0.973451\n",
      "6387    0.931452\n",
      "6388    0.966527\n",
      "6389    0.948665\n",
      "Name: Value, Length: 6390, dtype: float64\n"
     ]
    },
    {
     "data": {
      "image/png": "[encoded data removed]",
      "text/plain": [
       "<matplotlib.figure.Figure at 0x1163b3e90>"
      ]
     },
     "metadata": {},
     "output_type": "display_data"
    }
   ],
   "source": [
    "import pandas as pd\n",
    "import numpy as np\n",
    "from matplotlib import pyplot as plt\n",
    "import seaborn as sns\n",
    "\n",
    "df = pd.read_csv(\"fileResults.csv\")\n",
    "\n",
    "print list(df)\n",
    "\n",
    "# print df[u'Algorithm']\n",
    "\n",
    "print df[u'Value']\n",
    "\n",
    "ax = sns.boxplot(x=u'Algorithm', y=df['Value'], hue='Measure', data=df, showfliers=False)  # RUN PLOT   \n",
    "\n",
    "plt.savefig(\"onset_total_boxplots.pdf\", bbox_inches='tight', dpi=1200)\n",
    "plt.show()\n",
    "plt.close()"
   ]
  },
  {
   "cell_type": "markdown",
   "metadata": {},
   "source": [
    "Hello"
   ]
  },
  {
   "cell_type": "code",
   "execution_count": null,
   "metadata": {
    "collapsed": true
   },
   "outputs": [],
   "source": []
  },
  {
   "cell_type": "code",
   "execution_count": null,
   "metadata": {
    "collapsed": true
   },
   "outputs": [],
   "source": []
  },
  {
   "cell_type": "code",
   "execution_count": null,
   "metadata": {
    "collapsed": true
   },
   "outputs": [],
   "source": []
  },
  {
   "cell_type": "code",
   "execution_count": null,
   "metadata": {
    "collapsed": true
   },
   "outputs": [],
   "source": []
  }
 ],
 "metadata": {
  "kernelspec": {
   "display_name": "Python 2",
   "language": "python",
   "name": "python2"
  },
  "language_info": {
   "codemirror_mode": {
    "name": "ipython",
    "version": 2
   },
   "file_extension": ".py",
   "mimetype": "text/x-python",
   "name": "python",
   "nbconvert_exporter": "python",
   "pygments_lexer": "ipython2",
   "version": "2.7.14"
  }
 },
 "nbformat": 4,
 "nbformat_minor": 2
}
